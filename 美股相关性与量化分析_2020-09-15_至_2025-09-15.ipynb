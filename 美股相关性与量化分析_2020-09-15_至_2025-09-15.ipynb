## 结果阅读指引（中文说明）

- 本Notebook通过Yahoo Finance获取真实历史数据（Adj Close），并严格限定时间：2020-09-15 至 2025-09-15。
- 若`SERV`或其他个别标的在该时段缺数据，已在“数据下载与预处理”环节标注，并自动从后续分析中剔除；图表仅对有效资产作图。
- 每个代码单元前均提供中文注释：说明函数/关键语句用途。
- 图表均已保存到`figures/`目录，便于复查或报告使用。
- 主要可得洞见：
  - 收盘价标准化走势对比可直观看出不同资产的趋势与波动差异；
  - 相关性热力图可用于识别高相关或低相关的资产对，为组合分散化提供依据；
  - PCA可揭示共同因子结构（如市场因子、成长因子等），解释方差比显示主导因子的权重；
  - 年化波动与滚动波动可帮助识别风险时段与稳态时段；
  - Sharpe对收益风险比给出排序；
  - Beta衡量资产对市场的敏感度，滚动Beta展示其时变性；
  - 策略回测比较等权、最小方差与动量在该区间的收益/风险表现；
  - 补充给出最大回撤与随机采样有效前沿，帮助理解风险-收益权衡。
# 补充分析：单资产净值、最大回撤曲线与简易有效前沿

# 单资产净值曲线
asset_nav = (1 + returns).cumprod()
ax = asset_nav.plot(title='单资产净值曲线', alpha=0.8)
ax.set_xlabel('日期')
ax.set_ylabel('净值')
plt.tight_layout()
plt.savefig(os.path.join(FIG_DIR, '12_asset_nav.png'), dpi=150)
plt.show()

# 最大回撤曲线（以等权组合为例）
if '等权' in locals() or ('等权' in globals()):
    series = nav_df['等权']
    dd = series / series.cummax() - 1.0
    ax = dd.plot(title='等权组合回撤曲线')
    ax.set_xlabel('日期')
    ax.set_ylabel('回撤')
    plt.tight_layout()
    plt.savefig(os.path.join(FIG_DIR, '13_drawdown_eq.png'), dpi=150)
    plt.show()

# 简易有效前沿（蒙特卡洛随机采样权重）
M = 5000
rand_weights = np.random.dirichlet(alpha=np.ones(n), size=M) if n>0 else np.empty((0,0))
port_returns = []
port_vols = []
for w in rand_weights:
    r = (returns[valid_assets] * w).sum(axis=1)
    port_returns.append(r.mean()*TRADING_DAYS)
    port_vols.append(r.std()*np.sqrt(TRADING_DAYS))

if n>0:
    plt.figure(figsize=(8,6))
    plt.scatter(port_vols, port_returns, c=np.array(port_returns)/ (np.array(port_vols)+1e-12), cmap='viridis', s=8)
    plt.colorbar(label='Sharpe')
    plt.xlabel('年化波动率')
    plt.ylabel('年化收益率')
    plt.title('简易有效前沿（随机权重采样）')
    plt.tight_layout()
    plt.savefig(os.path.join(FIG_DIR, '14_efficient_frontier.png'), dpi=150)
    plt.show()# 策略模拟
# 1) 等权重组合：每日等权持有（不考虑交易成本）
# 2) 最小方差组合：使用LedoitWolf估计协方差，求解 min w'Σw s.t. sum w = 1, w>=0
# 3) 动量策略：以近60日动量选前N（如3）持有，月度调仓

# 组合净值工具函数

def portfolio_nav(weights, ret_df):
    """根据权重与日收益率计算组合净值（起始为1）。"""
    port_ret = (ret_df * weights).sum(axis=1)
    nav = (1 + port_ret).cumprod()
    return nav, port_ret

# 1) 等权组合
n = len(valid_assets)
if n > 0:
    w_eq = np.repeat(1.0 / n, n)
    nav_eq, ret_eq = portfolio_nav(w_eq, returns[valid_assets])
else:
    w_eq, nav_eq, ret_eq = None, None, None

# 2) 最小方差组合
# 使用非负约束与权重和为1的约束

def min_var_weights(ret_df):
    """最小方差权重：min w'Σw, s.t. sum w=1, w>=0，Σ用LedoitWolf估计。"""
    S = LedoitWolf().fit(ret_df.values).covariance_
    n = ret_df.shape[1]
    x0 = np.repeat(1.0 / n, n)

    # 目标函数：w'Σw
    def objective(w):
        return float(w.T @ S @ w)

    # 约束：sum w = 1
    cons = ({'type': 'eq', 'fun': lambda w: np.sum(w) - 1.0})
    # 边界：w>=0
    bounds = [(0.0, 1.0) for _ in range(n)]

    res = minimize(objective, x0, method='SLSQP', bounds=bounds, constraints=cons)
    return res.x

if n > 0:
    w_mv = min_var_weights(returns[valid_assets])
    nav_mv, ret_mv = portfolio_nav(w_mv, returns[valid_assets])
else:
    w_mv, nav_mv, ret_mv = None, None, None

# 3) 动量策略：近60日动量选前3，按月调仓
lookback = 60
topk = 3

# 生成每月末的重平衡日期
dates = returns.index
month_ends = dates.to_period('M').drop_duplicates().to_timestamp('M')
month_ends = [d for d in month_ends if d in returns.index]

weights_mom = pd.DataFrame(0.0, index=returns.index, columns=valid_assets)
for dt in month_ends:
    hist_start = returns.index.get_loc(dt) - lookback
    if hist_start <= 0:
        continue
    hist_window = returns.iloc[hist_start: returns.index.get_loc(dt)]
    # 动量指标：过去窗口简单累计收益
    momentum = (1 + hist_window).prod() - 1.0
    winners = momentum.sort_values(ascending=False).head(min(topk, n)).index
    weights_mom.loc[dt, winners] = 1.0 / len(winners)

# 将月末权重向前填充至下一个月末
weights_mom = weights_mom.replace(0, np.nan).ffill().fillna(0.0)

if n > 0:
    nav_mom, ret_mom = portfolio_nav(weights_mom.values.T, returns[valid_assets])  # 广播相乘
else:
    nav_mom, ret_mom = None, None

# 汇总表现
nav_df = pd.DataFrame(index=returns.index)
if nav_eq is not None: nav_df['等权'] = nav_eq
if nav_mv is not None: nav_df['最小方差'] = nav_mv
if nav_mom is not None: nav_df['动量'] = nav_mom

ax = nav_df.plot(title='组合净值对比', alpha=0.9)
ax.set_xlabel('日期')
ax.set_ylabel('净值')
plt.tight_layout()
plt.savefig(os.path.join(FIG_DIR, '11_portfolio_nav.png'), dpi=150)
plt.show()

# 简单绩效表
perf = {}
for name, series in nav_df.items():
    r = series.pct_change().dropna()
    perf[name] = {
        '年化收益': r.mean()*TRADING_DAYS,
        '年化波动': r.std()*np.sqrt(TRADING_DAYS),
        'Sharpe': (r.mean()*TRADING_DAYS)/(r.std()*np.sqrt(TRADING_DAYS)+1e-12),
        '最大回撤': max_drawdown(series)
    }
perf_df = pd.DataFrame(perf).T.sort_values('Sharpe', ascending=False)
perf_df# Beta系数估计（相对SPY）
# 方法一：截距+斜率的OLS回归：r_i = alpha + beta * r_m + eps
# 方法二：滚动窗口回归获得时间变动的beta

import statsmodels.api as sm  # 统计回归库（用于OLS）

if market_returns is not None:
    betas = {}
    alphas = {}
    for t in valid_assets:
        # 添加常数项用于估计alpha
        X = sm.add_constant(market_returns.values)
        y = returns[t].values
        model = sm.OLS(y, X, missing='drop').fit()
        alphas[t] = model.params[0]
        betas[t] = model.params[1]
    beta_series = pd.Series(betas).sort_values(ascending=False)

    plt.figure(figsize=(10,4))
    beta_series.plot(kind='bar', color='C3')
    plt.ylabel('Beta 相对 SPY')
    plt.title('静态OLS估计的Beta（相对SPY）')
    plt.tight_layout()
    plt.savefig(os.path.join(FIG_DIR, '09_beta_static.png'), dpi=150)
    plt.show()

    # 滚动beta：用窗口内协方差/方差近似 beta_t = Cov(r_i, r_m)/Var(r_m)
    window = 60
    roll_cov = returns.join(market_returns.rename('SPY')).rolling(window).cov()
    roll_var_m = market_returns.rolling(window).var()

    roll_beta = {}
    for t in valid_assets:
        cov_im = roll_cov[t].loc[:, 'SPY']  # 需要处理MultiIndex，join后cov返回多层；此处简化为重置后取列
        # 更稳妥做法：直接公式计算滚动-beta
        cov_im = returns[t].rolling(window).cov(market_returns)
        roll_beta[t] = cov_im / roll_var_m
    roll_beta_df = pd.DataFrame(roll_beta).dropna(how='all')

    ax = roll_beta_df.plot(title=f'{window}日滚动Beta（相对SPY）', alpha=0.9)
    ax.set_xlabel('日期')
    ax.set_ylabel('滚动Beta')
    plt.tight_layout()
    plt.savefig(os.path.join(FIG_DIR, '10_beta_rolling.png'), dpi=150)
    plt.show()

    pd.DataFrame({'alpha': alphas, 'beta': betas}).sort_values('beta', ascending=False)
else:
    print('未获取到基准SPY的收益率，无法计算Beta。仅显示代码。')# Sharpe Ratio（假设无风险利率为0）
# 年化Sharpe = 年化平均收益 / 年化波动率

mean_daily = returns.mean()
ann_return = mean_daily * TRADING_DAYS  # 简单年化收益
ann_sharpe = ann_return / ann_vol  # 与上一步计算的ann_vol配合

sharpe_df = pd.DataFrame({'年化收益': ann_return, '年化波动率': ann_vol, 'Sharpe': ann_sharpe}).sort_values('Sharpe', ascending=False)

plt.figure(figsize=(10,4))
sharpe_df['Sharpe'].plot(kind='bar', color='C1')
plt.ylabel('Sharpe Ratio')
plt.title('各资产年化Sharpe（r_f=0）')
plt.tight_layout()
plt.savefig(os.path.join(FIG_DIR, '08_sharpe.png'), dpi=150)
plt.show()

sharpe_df# 波动率分析（标准差、滚动波动率）
# 计算年化波动率与20/60/120日滚动波动率，并绘制

# 年化波动率（按列计算）
ann_vol = returns.apply(annualize_vol, axis=0)
ann_vol = ann_vol.sort_values(ascending=False)

plt.figure(figsize=(10,4))
ann_vol.plot(kind='bar', color='C2')
plt.ylabel('年化波动率')
plt.title('各资产年化波动率（按日收益率估计）')
plt.tight_layout()
plt.savefig(os.path.join(FIG_DIR, '06_annualized_vol.png'), dpi=150)
plt.show()

# 滚动波动率：使用rolling().std() * sqrt(252)
for window in [20, 60, 120]:
    roll_vol = returns.rolling(window).std() * np.sqrt(TRADING_DAYS)
    ax = roll_vol.plot(alpha=0.8, title=f'{window}日滚动年化波动率')
    ax.set_xlabel('日期')
    ax.set_ylabel('滚动年化波动率')
    plt.tight_layout()
    plt.savefig(os.path.join(FIG_DIR, f'07_roll_vol_{window}d.png'), dpi=150)
    plt.show()

ann_vol# PCA主成分分析
# 步骤：标准化收益率 -> PCA拟合 -> 解释方差比 -> 载荷（成分权重）可视化

scaler = StandardScaler(with_mean=True, with_std=True)  # 将各资产收益率标准化
X = scaler.fit_transform(returns.values)  # ndarray, 行为日期、列为资产

n_components = min(5, len(valid_assets))  # 限制主成分数量不超过资产数
pca = PCA(n_components=n_components, random_state=42)
pca.fit(X)

# 解释方差比（每个主成分解释的方差占比）
explained_ratio = pca.explained_variance_ratio_
plt.figure(figsize=(10,4))
plt.bar(range(1, n_components+1), explained_ratio, color='C0')
plt.plot(range(1, n_components+1), np.cumsum(explained_ratio), color='C1', marker='o', label='累计解释率')
plt.xticks(range(1, n_components+1))
plt.xlabel('主成分')
plt.ylabel('解释方差比')
plt.title('PCA解释方差比与累计解释率')
plt.legend()
plt.tight_layout()
plt.savefig(os.path.join(FIG_DIR, '04_pca_explained_variance.png'), dpi=150)
plt.show()

# 载荷矩阵：每个资产在各主成分上的权重
loadings = pd.DataFrame(pca.components_.T, index=valid_assets, columns=[f'PC{i+1}' for i in range(n_components)])
plt.figure(figsize=(12, 6))
sns.heatmap(loadings, annot=True, fmt='.2f', cmap='coolwarm', center=0)
plt.title('PCA载荷（各资产在主成分上的权重）')
plt.tight_layout()
plt.savefig(os.path.join(FIG_DIR, '05_pca_loadings.png'), dpi=150)
plt.show()

loadings# 收益率相关性与热力图（皮尔逊）
# 计算资产间皮尔逊相关系数矩阵，并绘制热力图以观察共动性结构

corr = returns.corr(method='pearson')  # DataFrame.corr计算列间相关性
plt.figure(figsize=(10, 8))
sns.heatmap(corr, annot=True, fmt='.2f', cmap='RdBu_r', center=0, linewidths=.5)
plt.title('资产日收益率皮尔逊相关系数热力图')
plt.tight_layout()
plt.savefig(os.path.join(FIG_DIR, '03_corr_heatmap.png'), dpi=150)
plt.show()

corr# 收盘价走势与收益率分布图
# 图1：各资产收盘价（标准化到1以便同轴对比）
# 图2：各资产日收益率分布（核密度/直方图）

# 将价格标准化（首日=1）便于比较走势
norm_prices = prices[valid_assets].dropna().divide(prices[valid_assets].dropna().iloc[0])
ax = norm_prices.plot(title='标准化收盘价走势（首日=1）', alpha=0.9)
ax.set_xlabel('日期')
ax.set_ylabel('标准化价格')
plt.tight_layout()
plt.savefig(os.path.join(FIG_DIR, '01_norm_prices.png'), dpi=150)
plt.show()

# 收益率分布
fig, axes = plt.subplots(nrows=len(valid_assets)//3 + 1, ncols=3, figsize=(14, 4*(len(valid_assets)//3 + 1)))
axes = axes.flatten()
for i, t in enumerate(valid_assets):
    sns.histplot(returns[t].dropna(), bins=50, kde=True, ax=axes[i])
    axes[i].set_title(f'{t} 日收益率分布')
    axes[i].set_xlabel('日收益率')
    axes[i].set_ylabel('频数')
for j in range(i+1, len(axes)):
    axes[j].axis('off')
plt.tight_layout()
plt.savefig(os.path.join(FIG_DIR, '02_return_distributions.png'), dpi=150)
plt.show()# 工具函数与输出目录
# 函数：ensure_dir -> 确保图像输出目录存在
# 函数：annualize_vol -> 将日度波动率年化（乘以sqrt(年化交易日数)）
# 函数：max_drawdown -> 计算最大回撤

FIG_DIR = 'figures'

def ensure_dir(path):
    """若目录不存在则创建，用于保存图表文件。"""
    if not os.path.exists(path):
        os.makedirs(path, exist_ok=True)

TRADING_DAYS = 252  # 美股常用年化交易日数

def annualize_vol(daily_returns):
    """将日收益率序列转换为年化波动率（标准差 * sqrt(252)）。"""
    return daily_returns.std() * np.sqrt(TRADING_DAYS)


def max_drawdown(series):
    """计算时间序列（如净值）的最大回撤。
    原理：计算历史峰值后的回撤幅度的最小值。
    """
    cummax = series.cummax()
    drawdown = series / cummax - 1.0
    return drawdown.min()

ensure_dir(FIG_DIR)
print('图像输出目录:', os.path.abspath(FIG_DIR))# 数据下载与预处理（每日收盘价，时序对齐，缺失处理）
# 函数：download_prices -> 读取标的与基准的“复权收盘价(Adj Close)”并对齐

def download_prices(tickers, benchmark, start, end):
    """
    使用yfinance下载真实历史数据（Adj Close）。
    - tickers: 需要分析的标的列表
    - benchmark: 市场基准，如 'SPY'
    - start, end: 字符串日期（YYYY-MM-DD）
    返回：
      prices (DataFrame): 各标的与基准的复权收盘价（按日期对齐，列为代码）
      available_tickers (list): 实际下载成功且含有效数据的标的列表
      missing_tickers (list): 下载失败或无数据的标的列表
    """
    # 使用yfinance一次性下载，返回多重列索引，包含各价类型
    raw = yf.download(tickers + [benchmark], start=start, end=end, interval='1d', group_by='ticker', auto_adjust=False, progress=False)
    # 提取每个ticker的Adj Close，若不存在则跳过
    price_dict = {}
    available_tickers = []
    missing_tickers = []

    for t in tickers + [benchmark]:
        try:
            # yfinance下载结果在group_by='ticker'时为列层级 (字段)，也可能在新版本为 (ticker, 字段)
            # 尝试两种访问方式，保证兼容
            if isinstance(raw.columns, pd.MultiIndex):
                if (t, 'Adj Close') in raw.columns:
                    s = raw[(t, 'Adj Close')].rename(t)
                elif 'Adj Close' in raw.columns.get_level_values(-1):
                    # 部分版本列顺序不同，备用兜底
                    s = raw.xs('Adj Close', level=-1, axis=1)[t].rename(t)
                else:
                    s = None
            else:
                # 单层列时直接取Adj Close列（不太常见，但做兜底）
                s = raw['Adj Close'] if 'Adj Close' in raw.columns else None
                if isinstance(s, pd.Series):
                    s = s.rename(t)
            if s is not None and s.dropna().shape[0] > 5:
                price_dict[t] = s
                available_tickers.append(t)
            else:
                missing_tickers.append(t)
        except Exception:
            missing_tickers.append(t)

    if len(price_dict) == 0:
        raise RuntimeError('未能下载到任何有效的历史价格数据，请检查网络或代码。')

    prices = pd.concat(price_dict.values(), axis=1).sort_index()
    # 去重并只保留日期升序
    prices = prices[~prices.index.duplicated(keep='first')]
    # 向前填充避免小缺口造成整行丢弃，但不跨越长缺口
    prices = prices.ffill()

    return prices, available_tickers, missing_tickers

# 调用下载函数
prices, available, missing = download_prices(TICKERS, BENCHMARK, START, END)

print('成功下载标的:', [t for t in available if t != BENCHMARK])
print('成功下载基准:', BENCHMARK if BENCHMARK in available else '无')
if len(missing) > 0:
    print('以下标的在区间内缺少真实数据，将从分析中剔除（只展示代码，不出图）：', missing)

# 仅保留成功的研究标的（剔除基准）
valid_assets = [t for t in available if t != BENCHMARK]

# 计算日收益率：使用对数收益或简单收益均可，这里采用简单收益率
# pct_change()：计算相邻两期的百分比变化
returns = prices[valid_assets].pct_change().dropna()
market_returns = prices[BENCHMARK].pct_change().dropna() if BENCHMARK in prices.columns else None

# 对齐资产与基准的日期索引
if market_returns is not None:
    returns = returns.loc[returns.index.intersection(market_returns.index)]
    market_returns = market_returns.loc[returns.index]

print('有效资产个数:', len(valid_assets))
print('数据起止:', returns.index.min().date(), '->', returns.index.max().date())

prices.head()# 导入依赖库（每个导入均有中文用途说明）
import warnings  # 抑制不必要的告警，保证输出清爽
warnings.filterwarnings('ignore')

import os  # 用于路径管理
from datetime import datetime  # 处理起止日期

import numpy as np  # 数值运算
import pandas as pd  # 表格数据处理
import yfinance as yf  # 从Yahoo Finance下载真实历史数据

import matplotlib.pyplot as plt  # 画图主库
import seaborn as sns  # 统计绘图与热力图

from sklearn.decomposition import PCA  # 主成分分析
from sklearn.covariance import LedoitWolf  # 稳健协方差估计用于最小方差组合
from sklearn.preprocessing import StandardScaler  # 特征标准化（用于PCA前处理）

from scipy.optimize import minimize  # 用于最小方差与有效前沿优化

# 设置matplotlib中文与样式（尽量使用通用字体）
plt.style.use('seaborn-v0_8')  # 使用较为现代的Seaborn风格
plt.rcParams['figure.figsize'] = (12, 6)  # 统一图表尺寸
plt.rcParams['axes.unicode_minus'] = False  # 解决负号显示问题

# 全局随机种子，保证可重复
np.random.seed(42)

# 标的与基准设置
TICKERS = ["OPEN", "SERV", "GLD", "TLT", "TQQQ", "TSLA", "META", "NVDA"]  # 研究标的
BENCHMARK = "SPY"  # 市场基准
START = "2020-09-15"  # 起始日期（含）
END = "2025-09-15"    # 结束日期（含）

# 输出关键配置，便于检查
print("标的:", TICKERS)
print("基准:", BENCHMARK)
print("区间:", START, "->", END)
# 美股多资产相关性与量化分析（2020-09-15 至 2025-09-15）

本Notebook将对以下标的进行量化分析：`OPEN, SERV, GLD, TLT, TQQQ, TSLA, META, NVDA`，并以 `SPY` 作为市场基准。分析范围：2020-09-15 至 2025-09-15（含）。

分析内容：
- 数据下载与预处理（每日收盘价，时序对齐，缺失值处理）
- 收盘价走势与收益率分布
- 收益率的相关性（皮尔逊相关系数热力图）
- 主成分分析（PCA）进行因子降维（解释方差与载荷）
- 波动率分析（标准差、滚动波动率）
- 风险调整收益（Sharpe Ratio，假设无风险利率为0）
- Beta系数与市场基准（SPY）
- 策略模拟：等权重组合、最小方差组合、动量策略
- 其他补充分析：最大回撤、简易有效前沿

说明：默认使用 Yahoo Finance 公开数据；若个别标的在区间内无有效数据，将在相应位置标注并跳过相关图表。
